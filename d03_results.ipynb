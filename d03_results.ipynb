{
 "cells": [
  {
   "cell_type": "code",
   "execution_count": 1,
   "metadata": {},
   "outputs": [],
   "source": [
    "import pandas as pd\n",
    "import numpy as np\n",
    "import matplotlib.pyplot as plt\n",
    "import seaborn as sns\n",
    "%matplotlib inline"
   ]
  },
  {
   "cell_type": "code",
   "execution_count": 2,
   "metadata": {},
   "outputs": [],
   "source": [
    "def f_importances(coef, names, top=-1):\n",
    "    imp = coef\n",
    "    imp, names = zip(*sorted(list(zip(imp, names))))\n",
    "\n",
    "    # Show all features\n",
    "    if top == -1:\n",
    "        top = len(names)\n",
    "    plt.figure(figsize=(12,5))\n",
    "    plt.barh(range(top), imp[::-1][0:top], align='center')\n",
    "    plt.yticks(range(top), names[::-1][0:top])\n",
    "    plt.show()"
   ]
  },
  {
   "cell_type": "code",
   "execution_count": 3,
   "metadata": {},
   "outputs": [],
   "source": [
    "sns.set_style(\"darkgrid\") #у графиков будет красивая серая подложка"
   ]
  },
  {
   "cell_type": "code",
   "execution_count": 4,
   "metadata": {},
   "outputs": [],
   "source": [
    "df = pd.read_csv('C:/Users/зщ/Downloads/bank_data_train_d02.csv/bank_data_train_d02.csv', index_col='ID')"
   ]
  },
  {
   "cell_type": "code",
   "execution_count": 5,
   "metadata": {},
   "outputs": [],
   "source": [
    "from sklearn.model_selection import train_test_split\n",
    "X_train, X_test, y_train, y_test = train_test_split(df.drop('TARGET', axis=1), df['TARGET'], test_size = 0.2, random_state = 21)"
   ]
  },
  {
   "cell_type": "code",
   "execution_count": 5,
   "metadata": {},
   "outputs": [
    {
     "data": {
      "text/html": [
       "<div>\n",
       "<style scoped>\n",
       "    .dataframe tbody tr th:only-of-type {\n",
       "        vertical-align: middle;\n",
       "    }\n",
       "\n",
       "    .dataframe tbody tr th {\n",
       "        vertical-align: top;\n",
       "    }\n",
       "\n",
       "    .dataframe thead th {\n",
       "        text-align: right;\n",
       "    }\n",
       "</style>\n",
       "<table border=\"1\" class=\"dataframe\">\n",
       "  <thead>\n",
       "    <tr style=\"text-align: right;\">\n",
       "      <th></th>\n",
       "      <th>CR_PROD_CNT_IL</th>\n",
       "      <th>AMOUNT_RUB_CLO_PRC</th>\n",
       "      <th>TURNOVER_DYNAMIC_IL_1M</th>\n",
       "      <th>AMOUNT_RUB_SUP_PRC</th>\n",
       "      <th>REST_DYNAMIC_FDEP_1M</th>\n",
       "      <th>REST_DYNAMIC_SAVE_3M</th>\n",
       "      <th>CR_PROD_CNT_VCU</th>\n",
       "      <th>REST_AVG_CUR</th>\n",
       "      <th>AMOUNT_RUB_NAS_PRC</th>\n",
       "      <th>TRANS_COUNT_SUP_PRC</th>\n",
       "      <th>...</th>\n",
       "      <th>PACK_103</th>\n",
       "      <th>PACK_104</th>\n",
       "      <th>PACK_105</th>\n",
       "      <th>PACK_107</th>\n",
       "      <th>PACK_108</th>\n",
       "      <th>PACK_109</th>\n",
       "      <th>PACK_301</th>\n",
       "      <th>PACK_k01</th>\n",
       "      <th>PACK_m01</th>\n",
       "      <th>PACK_o01</th>\n",
       "    </tr>\n",
       "    <tr>\n",
       "      <th>ID</th>\n",
       "      <th></th>\n",
       "      <th></th>\n",
       "      <th></th>\n",
       "      <th></th>\n",
       "      <th></th>\n",
       "      <th></th>\n",
       "      <th></th>\n",
       "      <th></th>\n",
       "      <th></th>\n",
       "      <th></th>\n",
       "      <th></th>\n",
       "      <th></th>\n",
       "      <th></th>\n",
       "      <th></th>\n",
       "      <th></th>\n",
       "      <th></th>\n",
       "      <th></th>\n",
       "      <th></th>\n",
       "      <th></th>\n",
       "      <th></th>\n",
       "      <th></th>\n",
       "    </tr>\n",
       "  </thead>\n",
       "  <tbody>\n",
       "    <tr>\n",
       "      <th>160587</th>\n",
       "      <td>-0.243932</td>\n",
       "      <td>-0.380232</td>\n",
       "      <td>-0.044824</td>\n",
       "      <td>-0.582347</td>\n",
       "      <td>-0.05133</td>\n",
       "      <td>-0.312371</td>\n",
       "      <td>-0.169589</td>\n",
       "      <td>0.125831</td>\n",
       "      <td>-0.248485</td>\n",
       "      <td>-1.004598</td>\n",
       "      <td>...</td>\n",
       "      <td>0</td>\n",
       "      <td>0</td>\n",
       "      <td>0</td>\n",
       "      <td>0</td>\n",
       "      <td>0</td>\n",
       "      <td>0</td>\n",
       "      <td>0</td>\n",
       "      <td>0</td>\n",
       "      <td>0</td>\n",
       "      <td>0</td>\n",
       "    </tr>\n",
       "    <tr>\n",
       "      <th>328947</th>\n",
       "      <td>-0.243932</td>\n",
       "      <td>-0.380232</td>\n",
       "      <td>-0.044824</td>\n",
       "      <td>-0.515896</td>\n",
       "      <td>-0.05133</td>\n",
       "      <td>-0.312371</td>\n",
       "      <td>-0.169589</td>\n",
       "      <td>-0.299435</td>\n",
       "      <td>-0.232094</td>\n",
       "      <td>-0.605184</td>\n",
       "      <td>...</td>\n",
       "      <td>0</td>\n",
       "      <td>0</td>\n",
       "      <td>0</td>\n",
       "      <td>0</td>\n",
       "      <td>0</td>\n",
       "      <td>0</td>\n",
       "      <td>0</td>\n",
       "      <td>0</td>\n",
       "      <td>0</td>\n",
       "      <td>1</td>\n",
       "    </tr>\n",
       "    <tr>\n",
       "      <th>583619</th>\n",
       "      <td>-0.243932</td>\n",
       "      <td>-0.380232</td>\n",
       "      <td>-0.044824</td>\n",
       "      <td>-0.582347</td>\n",
       "      <td>-0.05133</td>\n",
       "      <td>-0.312371</td>\n",
       "      <td>-0.169589</td>\n",
       "      <td>-0.231624</td>\n",
       "      <td>0.721664</td>\n",
       "      <td>-1.004598</td>\n",
       "      <td>...</td>\n",
       "      <td>0</td>\n",
       "      <td>0</td>\n",
       "      <td>0</td>\n",
       "      <td>0</td>\n",
       "      <td>0</td>\n",
       "      <td>0</td>\n",
       "      <td>0</td>\n",
       "      <td>0</td>\n",
       "      <td>0</td>\n",
       "      <td>0</td>\n",
       "    </tr>\n",
       "    <tr>\n",
       "      <th>155922</th>\n",
       "      <td>-0.243932</td>\n",
       "      <td>-0.050653</td>\n",
       "      <td>-0.044824</td>\n",
       "      <td>0.007438</td>\n",
       "      <td>-0.05133</td>\n",
       "      <td>-0.312371</td>\n",
       "      <td>-0.169589</td>\n",
       "      <td>-0.353235</td>\n",
       "      <td>-0.204466</td>\n",
       "      <td>0.894885</td>\n",
       "      <td>...</td>\n",
       "      <td>0</td>\n",
       "      <td>0</td>\n",
       "      <td>1</td>\n",
       "      <td>0</td>\n",
       "      <td>0</td>\n",
       "      <td>0</td>\n",
       "      <td>0</td>\n",
       "      <td>0</td>\n",
       "      <td>0</td>\n",
       "      <td>0</td>\n",
       "    </tr>\n",
       "    <tr>\n",
       "      <th>468688</th>\n",
       "      <td>-0.243932</td>\n",
       "      <td>-0.380232</td>\n",
       "      <td>-0.044824</td>\n",
       "      <td>-0.382398</td>\n",
       "      <td>-0.05133</td>\n",
       "      <td>-0.312371</td>\n",
       "      <td>-0.169589</td>\n",
       "      <td>1.097222</td>\n",
       "      <td>-0.248485</td>\n",
       "      <td>-0.211645</td>\n",
       "      <td>...</td>\n",
       "      <td>0</td>\n",
       "      <td>0</td>\n",
       "      <td>0</td>\n",
       "      <td>0</td>\n",
       "      <td>0</td>\n",
       "      <td>0</td>\n",
       "      <td>0</td>\n",
       "      <td>0</td>\n",
       "      <td>0</td>\n",
       "      <td>1</td>\n",
       "    </tr>\n",
       "    <tr>\n",
       "      <th>...</th>\n",
       "      <td>...</td>\n",
       "      <td>...</td>\n",
       "      <td>...</td>\n",
       "      <td>...</td>\n",
       "      <td>...</td>\n",
       "      <td>...</td>\n",
       "      <td>...</td>\n",
       "      <td>...</td>\n",
       "      <td>...</td>\n",
       "      <td>...</td>\n",
       "      <td>...</td>\n",
       "      <td>...</td>\n",
       "      <td>...</td>\n",
       "      <td>...</td>\n",
       "      <td>...</td>\n",
       "      <td>...</td>\n",
       "      <td>...</td>\n",
       "      <td>...</td>\n",
       "      <td>...</td>\n",
       "      <td>...</td>\n",
       "      <td>...</td>\n",
       "    </tr>\n",
       "    <tr>\n",
       "      <th>249311</th>\n",
       "      <td>-0.243932</td>\n",
       "      <td>-0.380232</td>\n",
       "      <td>-0.044824</td>\n",
       "      <td>-0.582347</td>\n",
       "      <td>-0.05133</td>\n",
       "      <td>-0.312371</td>\n",
       "      <td>-0.169589</td>\n",
       "      <td>-0.348316</td>\n",
       "      <td>-0.248485</td>\n",
       "      <td>-1.004598</td>\n",
       "      <td>...</td>\n",
       "      <td>0</td>\n",
       "      <td>0</td>\n",
       "      <td>0</td>\n",
       "      <td>1</td>\n",
       "      <td>0</td>\n",
       "      <td>0</td>\n",
       "      <td>0</td>\n",
       "      <td>0</td>\n",
       "      <td>0</td>\n",
       "      <td>0</td>\n",
       "    </tr>\n",
       "    <tr>\n",
       "      <th>321783</th>\n",
       "      <td>-0.243932</td>\n",
       "      <td>-0.363446</td>\n",
       "      <td>-0.044824</td>\n",
       "      <td>3.403086</td>\n",
       "      <td>-0.05133</td>\n",
       "      <td>-0.312371</td>\n",
       "      <td>-0.169589</td>\n",
       "      <td>-0.327134</td>\n",
       "      <td>-0.169615</td>\n",
       "      <td>-0.053054</td>\n",
       "      <td>...</td>\n",
       "      <td>0</td>\n",
       "      <td>0</td>\n",
       "      <td>0</td>\n",
       "      <td>0</td>\n",
       "      <td>0</td>\n",
       "      <td>0</td>\n",
       "      <td>0</td>\n",
       "      <td>1</td>\n",
       "      <td>0</td>\n",
       "      <td>0</td>\n",
       "    </tr>\n",
       "    <tr>\n",
       "      <th>399839</th>\n",
       "      <td>-0.243932</td>\n",
       "      <td>-0.380232</td>\n",
       "      <td>-0.044824</td>\n",
       "      <td>-0.582347</td>\n",
       "      <td>-0.05133</td>\n",
       "      <td>-0.312371</td>\n",
       "      <td>-0.169589</td>\n",
       "      <td>-0.351344</td>\n",
       "      <td>0.990450</td>\n",
       "      <td>-1.004598</td>\n",
       "      <td>...</td>\n",
       "      <td>0</td>\n",
       "      <td>0</td>\n",
       "      <td>0</td>\n",
       "      <td>0</td>\n",
       "      <td>0</td>\n",
       "      <td>0</td>\n",
       "      <td>0</td>\n",
       "      <td>0</td>\n",
       "      <td>0</td>\n",
       "      <td>0</td>\n",
       "    </tr>\n",
       "    <tr>\n",
       "      <th>563123</th>\n",
       "      <td>2.074256</td>\n",
       "      <td>0.113880</td>\n",
       "      <td>-0.044824</td>\n",
       "      <td>0.843067</td>\n",
       "      <td>-0.05133</td>\n",
       "      <td>-0.312371</td>\n",
       "      <td>-0.169589</td>\n",
       "      <td>-0.314061</td>\n",
       "      <td>0.090643</td>\n",
       "      <td>1.282015</td>\n",
       "      <td>...</td>\n",
       "      <td>0</td>\n",
       "      <td>0</td>\n",
       "      <td>0</td>\n",
       "      <td>0</td>\n",
       "      <td>0</td>\n",
       "      <td>0</td>\n",
       "      <td>0</td>\n",
       "      <td>1</td>\n",
       "      <td>0</td>\n",
       "      <td>0</td>\n",
       "    </tr>\n",
       "    <tr>\n",
       "      <th>247886</th>\n",
       "      <td>-0.243932</td>\n",
       "      <td>-0.380232</td>\n",
       "      <td>-0.044824</td>\n",
       "      <td>-0.582347</td>\n",
       "      <td>-0.05133</td>\n",
       "      <td>-0.312371</td>\n",
       "      <td>-0.169589</td>\n",
       "      <td>0.381185</td>\n",
       "      <td>-0.248485</td>\n",
       "      <td>-1.004598</td>\n",
       "      <td>...</td>\n",
       "      <td>0</td>\n",
       "      <td>0</td>\n",
       "      <td>0</td>\n",
       "      <td>0</td>\n",
       "      <td>0</td>\n",
       "      <td>0</td>\n",
       "      <td>0</td>\n",
       "      <td>0</td>\n",
       "      <td>0</td>\n",
       "      <td>0</td>\n",
       "    </tr>\n",
       "  </tbody>\n",
       "</table>\n",
       "<p>284152 rows × 370 columns</p>\n",
       "</div>"
      ],
      "text/plain": [
       "        CR_PROD_CNT_IL  AMOUNT_RUB_CLO_PRC  TURNOVER_DYNAMIC_IL_1M  \\\n",
       "ID                                                                   \n",
       "160587       -0.243932           -0.380232               -0.044824   \n",
       "328947       -0.243932           -0.380232               -0.044824   \n",
       "583619       -0.243932           -0.380232               -0.044824   \n",
       "155922       -0.243932           -0.050653               -0.044824   \n",
       "468688       -0.243932           -0.380232               -0.044824   \n",
       "...                ...                 ...                     ...   \n",
       "249311       -0.243932           -0.380232               -0.044824   \n",
       "321783       -0.243932           -0.363446               -0.044824   \n",
       "399839       -0.243932           -0.380232               -0.044824   \n",
       "563123        2.074256            0.113880               -0.044824   \n",
       "247886       -0.243932           -0.380232               -0.044824   \n",
       "\n",
       "        AMOUNT_RUB_SUP_PRC  REST_DYNAMIC_FDEP_1M  REST_DYNAMIC_SAVE_3M  \\\n",
       "ID                                                                       \n",
       "160587           -0.582347              -0.05133             -0.312371   \n",
       "328947           -0.515896              -0.05133             -0.312371   \n",
       "583619           -0.582347              -0.05133             -0.312371   \n",
       "155922            0.007438              -0.05133             -0.312371   \n",
       "468688           -0.382398              -0.05133             -0.312371   \n",
       "...                    ...                   ...                   ...   \n",
       "249311           -0.582347              -0.05133             -0.312371   \n",
       "321783            3.403086              -0.05133             -0.312371   \n",
       "399839           -0.582347              -0.05133             -0.312371   \n",
       "563123            0.843067              -0.05133             -0.312371   \n",
       "247886           -0.582347              -0.05133             -0.312371   \n",
       "\n",
       "        CR_PROD_CNT_VCU  REST_AVG_CUR  AMOUNT_RUB_NAS_PRC  \\\n",
       "ID                                                          \n",
       "160587        -0.169589      0.125831           -0.248485   \n",
       "328947        -0.169589     -0.299435           -0.232094   \n",
       "583619        -0.169589     -0.231624            0.721664   \n",
       "155922        -0.169589     -0.353235           -0.204466   \n",
       "468688        -0.169589      1.097222           -0.248485   \n",
       "...                 ...           ...                 ...   \n",
       "249311        -0.169589     -0.348316           -0.248485   \n",
       "321783        -0.169589     -0.327134           -0.169615   \n",
       "399839        -0.169589     -0.351344            0.990450   \n",
       "563123        -0.169589     -0.314061            0.090643   \n",
       "247886        -0.169589      0.381185           -0.248485   \n",
       "\n",
       "        TRANS_COUNT_SUP_PRC  ...  PACK_103  PACK_104  PACK_105  PACK_107  \\\n",
       "ID                           ...                                           \n",
       "160587            -1.004598  ...         0         0         0         0   \n",
       "328947            -0.605184  ...         0         0         0         0   \n",
       "583619            -1.004598  ...         0         0         0         0   \n",
       "155922             0.894885  ...         0         0         1         0   \n",
       "468688            -0.211645  ...         0         0         0         0   \n",
       "...                     ...  ...       ...       ...       ...       ...   \n",
       "249311            -1.004598  ...         0         0         0         1   \n",
       "321783            -0.053054  ...         0         0         0         0   \n",
       "399839            -1.004598  ...         0         0         0         0   \n",
       "563123             1.282015  ...         0         0         0         0   \n",
       "247886            -1.004598  ...         0         0         0         0   \n",
       "\n",
       "        PACK_108  PACK_109  PACK_301  PACK_k01  PACK_m01  PACK_o01  \n",
       "ID                                                                  \n",
       "160587         0         0         0         0         0         0  \n",
       "328947         0         0         0         0         0         1  \n",
       "583619         0         0         0         0         0         0  \n",
       "155922         0         0         0         0         0         0  \n",
       "468688         0         0         0         0         0         1  \n",
       "...          ...       ...       ...       ...       ...       ...  \n",
       "249311         0         0         0         0         0         0  \n",
       "321783         0         0         0         1         0         0  \n",
       "399839         0         0         0         0         0         0  \n",
       "563123         0         0         0         1         0         0  \n",
       "247886         0         0         0         0         0         0  \n",
       "\n",
       "[284152 rows x 370 columns]"
      ]
     },
     "execution_count": 5,
     "metadata": {},
     "output_type": "execute_result"
    }
   ],
   "source": [
    "X_train"
   ]
  },
  {
   "cell_type": "code",
   "execution_count": 6,
   "metadata": {},
   "outputs": [
    {
     "data": {
      "text/html": [
       "<div>\n",
       "<style scoped>\n",
       "    .dataframe tbody tr th:only-of-type {\n",
       "        vertical-align: middle;\n",
       "    }\n",
       "\n",
       "    .dataframe tbody tr th {\n",
       "        vertical-align: top;\n",
       "    }\n",
       "\n",
       "    .dataframe thead th {\n",
       "        text-align: right;\n",
       "    }\n",
       "</style>\n",
       "<table border=\"1\" class=\"dataframe\">\n",
       "  <thead>\n",
       "    <tr style=\"text-align: right;\">\n",
       "      <th></th>\n",
       "      <th>CR_PROD_CNT_IL</th>\n",
       "      <th>AMOUNT_RUB_CLO_PRC</th>\n",
       "      <th>TURNOVER_DYNAMIC_IL_1M</th>\n",
       "      <th>AMOUNT_RUB_SUP_PRC</th>\n",
       "      <th>REST_DYNAMIC_FDEP_1M</th>\n",
       "      <th>REST_DYNAMIC_SAVE_3M</th>\n",
       "      <th>CR_PROD_CNT_VCU</th>\n",
       "      <th>REST_AVG_CUR</th>\n",
       "      <th>AMOUNT_RUB_NAS_PRC</th>\n",
       "      <th>TRANS_COUNT_SUP_PRC</th>\n",
       "      <th>...</th>\n",
       "      <th>PACK_103</th>\n",
       "      <th>PACK_104</th>\n",
       "      <th>PACK_105</th>\n",
       "      <th>PACK_107</th>\n",
       "      <th>PACK_108</th>\n",
       "      <th>PACK_109</th>\n",
       "      <th>PACK_301</th>\n",
       "      <th>PACK_k01</th>\n",
       "      <th>PACK_m01</th>\n",
       "      <th>PACK_o01</th>\n",
       "    </tr>\n",
       "    <tr>\n",
       "      <th>ID</th>\n",
       "      <th></th>\n",
       "      <th></th>\n",
       "      <th></th>\n",
       "      <th></th>\n",
       "      <th></th>\n",
       "      <th></th>\n",
       "      <th></th>\n",
       "      <th></th>\n",
       "      <th></th>\n",
       "      <th></th>\n",
       "      <th></th>\n",
       "      <th></th>\n",
       "      <th></th>\n",
       "      <th></th>\n",
       "      <th></th>\n",
       "      <th></th>\n",
       "      <th></th>\n",
       "      <th></th>\n",
       "      <th></th>\n",
       "      <th></th>\n",
       "      <th></th>\n",
       "    </tr>\n",
       "  </thead>\n",
       "  <tbody>\n",
       "    <tr>\n",
       "      <th>213012</th>\n",
       "      <td>-0.243932</td>\n",
       "      <td>-0.380232</td>\n",
       "      <td>-0.044824</td>\n",
       "      <td>0.302946</td>\n",
       "      <td>-0.05133</td>\n",
       "      <td>-0.312371</td>\n",
       "      <td>-0.169589</td>\n",
       "      <td>-0.353235</td>\n",
       "      <td>0.019832</td>\n",
       "      <td>1.282951</td>\n",
       "      <td>...</td>\n",
       "      <td>0</td>\n",
       "      <td>0</td>\n",
       "      <td>1</td>\n",
       "      <td>0</td>\n",
       "      <td>0</td>\n",
       "      <td>0</td>\n",
       "      <td>0</td>\n",
       "      <td>0</td>\n",
       "      <td>0</td>\n",
       "      <td>0</td>\n",
       "    </tr>\n",
       "    <tr>\n",
       "      <th>425165</th>\n",
       "      <td>-0.243932</td>\n",
       "      <td>-0.231620</td>\n",
       "      <td>-0.044824</td>\n",
       "      <td>3.277466</td>\n",
       "      <td>-0.05133</td>\n",
       "      <td>-0.312371</td>\n",
       "      <td>-0.169589</td>\n",
       "      <td>-0.325711</td>\n",
       "      <td>-0.248485</td>\n",
       "      <td>3.488802</td>\n",
       "      <td>...</td>\n",
       "      <td>0</td>\n",
       "      <td>0</td>\n",
       "      <td>0</td>\n",
       "      <td>0</td>\n",
       "      <td>0</td>\n",
       "      <td>0</td>\n",
       "      <td>0</td>\n",
       "      <td>0</td>\n",
       "      <td>0</td>\n",
       "      <td>0</td>\n",
       "    </tr>\n",
       "    <tr>\n",
       "      <th>418831</th>\n",
       "      <td>-0.243932</td>\n",
       "      <td>-0.380232</td>\n",
       "      <td>-0.044824</td>\n",
       "      <td>-0.582347</td>\n",
       "      <td>-0.05133</td>\n",
       "      <td>-0.312371</td>\n",
       "      <td>-0.169589</td>\n",
       "      <td>-0.027859</td>\n",
       "      <td>-0.248485</td>\n",
       "      <td>-1.004598</td>\n",
       "      <td>...</td>\n",
       "      <td>0</td>\n",
       "      <td>0</td>\n",
       "      <td>0</td>\n",
       "      <td>0</td>\n",
       "      <td>0</td>\n",
       "      <td>0</td>\n",
       "      <td>0</td>\n",
       "      <td>0</td>\n",
       "      <td>0</td>\n",
       "      <td>1</td>\n",
       "    </tr>\n",
       "    <tr>\n",
       "      <th>309967</th>\n",
       "      <td>-0.243932</td>\n",
       "      <td>0.158985</td>\n",
       "      <td>-0.044824</td>\n",
       "      <td>-0.343662</td>\n",
       "      <td>-0.05133</td>\n",
       "      <td>-0.312371</td>\n",
       "      <td>-0.169589</td>\n",
       "      <td>-0.353235</td>\n",
       "      <td>-0.238125</td>\n",
       "      <td>-0.066845</td>\n",
       "      <td>...</td>\n",
       "      <td>0</td>\n",
       "      <td>0</td>\n",
       "      <td>1</td>\n",
       "      <td>0</td>\n",
       "      <td>0</td>\n",
       "      <td>0</td>\n",
       "      <td>0</td>\n",
       "      <td>0</td>\n",
       "      <td>0</td>\n",
       "      <td>0</td>\n",
       "    </tr>\n",
       "    <tr>\n",
       "      <th>541027</th>\n",
       "      <td>-0.243932</td>\n",
       "      <td>-0.380232</td>\n",
       "      <td>-0.044824</td>\n",
       "      <td>-0.488284</td>\n",
       "      <td>-0.05133</td>\n",
       "      <td>-0.312371</td>\n",
       "      <td>-0.169589</td>\n",
       "      <td>-0.331052</td>\n",
       "      <td>-0.206498</td>\n",
       "      <td>0.212969</td>\n",
       "      <td>...</td>\n",
       "      <td>0</td>\n",
       "      <td>0</td>\n",
       "      <td>0</td>\n",
       "      <td>0</td>\n",
       "      <td>0</td>\n",
       "      <td>0</td>\n",
       "      <td>0</td>\n",
       "      <td>0</td>\n",
       "      <td>0</td>\n",
       "      <td>0</td>\n",
       "    </tr>\n",
       "    <tr>\n",
       "      <th>...</th>\n",
       "      <td>...</td>\n",
       "      <td>...</td>\n",
       "      <td>...</td>\n",
       "      <td>...</td>\n",
       "      <td>...</td>\n",
       "      <td>...</td>\n",
       "      <td>...</td>\n",
       "      <td>...</td>\n",
       "      <td>...</td>\n",
       "      <td>...</td>\n",
       "      <td>...</td>\n",
       "      <td>...</td>\n",
       "      <td>...</td>\n",
       "      <td>...</td>\n",
       "      <td>...</td>\n",
       "      <td>...</td>\n",
       "      <td>...</td>\n",
       "      <td>...</td>\n",
       "      <td>...</td>\n",
       "      <td>...</td>\n",
       "      <td>...</td>\n",
       "    </tr>\n",
       "    <tr>\n",
       "      <th>582743</th>\n",
       "      <td>-0.243932</td>\n",
       "      <td>-0.380232</td>\n",
       "      <td>-0.044824</td>\n",
       "      <td>-0.582347</td>\n",
       "      <td>-0.05133</td>\n",
       "      <td>-0.312371</td>\n",
       "      <td>-0.169589</td>\n",
       "      <td>-0.318002</td>\n",
       "      <td>-0.248485</td>\n",
       "      <td>-1.004598</td>\n",
       "      <td>...</td>\n",
       "      <td>0</td>\n",
       "      <td>0</td>\n",
       "      <td>0</td>\n",
       "      <td>0</td>\n",
       "      <td>0</td>\n",
       "      <td>0</td>\n",
       "      <td>0</td>\n",
       "      <td>1</td>\n",
       "      <td>0</td>\n",
       "      <td>0</td>\n",
       "    </tr>\n",
       "    <tr>\n",
       "      <th>261292</th>\n",
       "      <td>-0.243932</td>\n",
       "      <td>-0.380232</td>\n",
       "      <td>-0.044824</td>\n",
       "      <td>3.220062</td>\n",
       "      <td>-0.05133</td>\n",
       "      <td>-0.312371</td>\n",
       "      <td>-0.169589</td>\n",
       "      <td>-0.336969</td>\n",
       "      <td>-0.248485</td>\n",
       "      <td>1.691442</td>\n",
       "      <td>...</td>\n",
       "      <td>1</td>\n",
       "      <td>0</td>\n",
       "      <td>0</td>\n",
       "      <td>0</td>\n",
       "      <td>0</td>\n",
       "      <td>0</td>\n",
       "      <td>0</td>\n",
       "      <td>0</td>\n",
       "      <td>0</td>\n",
       "      <td>0</td>\n",
       "    </tr>\n",
       "    <tr>\n",
       "      <th>180844</th>\n",
       "      <td>-0.243932</td>\n",
       "      <td>0.699516</td>\n",
       "      <td>-0.044824</td>\n",
       "      <td>2.003320</td>\n",
       "      <td>-0.05133</td>\n",
       "      <td>-0.312371</td>\n",
       "      <td>-0.169589</td>\n",
       "      <td>3.184797</td>\n",
       "      <td>-0.248485</td>\n",
       "      <td>1.771522</td>\n",
       "      <td>...</td>\n",
       "      <td>0</td>\n",
       "      <td>0</td>\n",
       "      <td>0</td>\n",
       "      <td>0</td>\n",
       "      <td>0</td>\n",
       "      <td>0</td>\n",
       "      <td>0</td>\n",
       "      <td>1</td>\n",
       "      <td>0</td>\n",
       "      <td>0</td>\n",
       "    </tr>\n",
       "    <tr>\n",
       "      <th>283693</th>\n",
       "      <td>-0.243932</td>\n",
       "      <td>-0.246529</td>\n",
       "      <td>-0.044824</td>\n",
       "      <td>-0.229851</td>\n",
       "      <td>-0.05133</td>\n",
       "      <td>-0.312371</td>\n",
       "      <td>-0.169589</td>\n",
       "      <td>-0.147989</td>\n",
       "      <td>-0.234476</td>\n",
       "      <td>-0.518825</td>\n",
       "      <td>...</td>\n",
       "      <td>0</td>\n",
       "      <td>0</td>\n",
       "      <td>0</td>\n",
       "      <td>0</td>\n",
       "      <td>0</td>\n",
       "      <td>0</td>\n",
       "      <td>0</td>\n",
       "      <td>1</td>\n",
       "      <td>0</td>\n",
       "      <td>0</td>\n",
       "    </tr>\n",
       "    <tr>\n",
       "      <th>238505</th>\n",
       "      <td>-0.243932</td>\n",
       "      <td>-0.146992</td>\n",
       "      <td>-0.044824</td>\n",
       "      <td>-0.128974</td>\n",
       "      <td>-0.05133</td>\n",
       "      <td>-0.312371</td>\n",
       "      <td>-0.169589</td>\n",
       "      <td>-0.242402</td>\n",
       "      <td>1.111773</td>\n",
       "      <td>-0.190284</td>\n",
       "      <td>...</td>\n",
       "      <td>0</td>\n",
       "      <td>0</td>\n",
       "      <td>0</td>\n",
       "      <td>0</td>\n",
       "      <td>0</td>\n",
       "      <td>0</td>\n",
       "      <td>0</td>\n",
       "      <td>0</td>\n",
       "      <td>0</td>\n",
       "      <td>1</td>\n",
       "    </tr>\n",
       "  </tbody>\n",
       "</table>\n",
       "<p>71038 rows × 370 columns</p>\n",
       "</div>"
      ],
      "text/plain": [
       "        CR_PROD_CNT_IL  AMOUNT_RUB_CLO_PRC  TURNOVER_DYNAMIC_IL_1M  \\\n",
       "ID                                                                   \n",
       "213012       -0.243932           -0.380232               -0.044824   \n",
       "425165       -0.243932           -0.231620               -0.044824   \n",
       "418831       -0.243932           -0.380232               -0.044824   \n",
       "309967       -0.243932            0.158985               -0.044824   \n",
       "541027       -0.243932           -0.380232               -0.044824   \n",
       "...                ...                 ...                     ...   \n",
       "582743       -0.243932           -0.380232               -0.044824   \n",
       "261292       -0.243932           -0.380232               -0.044824   \n",
       "180844       -0.243932            0.699516               -0.044824   \n",
       "283693       -0.243932           -0.246529               -0.044824   \n",
       "238505       -0.243932           -0.146992               -0.044824   \n",
       "\n",
       "        AMOUNT_RUB_SUP_PRC  REST_DYNAMIC_FDEP_1M  REST_DYNAMIC_SAVE_3M  \\\n",
       "ID                                                                       \n",
       "213012            0.302946              -0.05133             -0.312371   \n",
       "425165            3.277466              -0.05133             -0.312371   \n",
       "418831           -0.582347              -0.05133             -0.312371   \n",
       "309967           -0.343662              -0.05133             -0.312371   \n",
       "541027           -0.488284              -0.05133             -0.312371   \n",
       "...                    ...                   ...                   ...   \n",
       "582743           -0.582347              -0.05133             -0.312371   \n",
       "261292            3.220062              -0.05133             -0.312371   \n",
       "180844            2.003320              -0.05133             -0.312371   \n",
       "283693           -0.229851              -0.05133             -0.312371   \n",
       "238505           -0.128974              -0.05133             -0.312371   \n",
       "\n",
       "        CR_PROD_CNT_VCU  REST_AVG_CUR  AMOUNT_RUB_NAS_PRC  \\\n",
       "ID                                                          \n",
       "213012        -0.169589     -0.353235            0.019832   \n",
       "425165        -0.169589     -0.325711           -0.248485   \n",
       "418831        -0.169589     -0.027859           -0.248485   \n",
       "309967        -0.169589     -0.353235           -0.238125   \n",
       "541027        -0.169589     -0.331052           -0.206498   \n",
       "...                 ...           ...                 ...   \n",
       "582743        -0.169589     -0.318002           -0.248485   \n",
       "261292        -0.169589     -0.336969           -0.248485   \n",
       "180844        -0.169589      3.184797           -0.248485   \n",
       "283693        -0.169589     -0.147989           -0.234476   \n",
       "238505        -0.169589     -0.242402            1.111773   \n",
       "\n",
       "        TRANS_COUNT_SUP_PRC  ...  PACK_103  PACK_104  PACK_105  PACK_107  \\\n",
       "ID                           ...                                           \n",
       "213012             1.282951  ...         0         0         1         0   \n",
       "425165             3.488802  ...         0         0         0         0   \n",
       "418831            -1.004598  ...         0         0         0         0   \n",
       "309967            -0.066845  ...         0         0         1         0   \n",
       "541027             0.212969  ...         0         0         0         0   \n",
       "...                     ...  ...       ...       ...       ...       ...   \n",
       "582743            -1.004598  ...         0         0         0         0   \n",
       "261292             1.691442  ...         1         0         0         0   \n",
       "180844             1.771522  ...         0         0         0         0   \n",
       "283693            -0.518825  ...         0         0         0         0   \n",
       "238505            -0.190284  ...         0         0         0         0   \n",
       "\n",
       "        PACK_108  PACK_109  PACK_301  PACK_k01  PACK_m01  PACK_o01  \n",
       "ID                                                                  \n",
       "213012         0         0         0         0         0         0  \n",
       "425165         0         0         0         0         0         0  \n",
       "418831         0         0         0         0         0         1  \n",
       "309967         0         0         0         0         0         0  \n",
       "541027         0         0         0         0         0         0  \n",
       "...          ...       ...       ...       ...       ...       ...  \n",
       "582743         0         0         0         1         0         0  \n",
       "261292         0         0         0         0         0         0  \n",
       "180844         0         0         0         1         0         0  \n",
       "283693         0         0         0         1         0         0  \n",
       "238505         0         0         0         0         0         1  \n",
       "\n",
       "[71038 rows x 370 columns]"
      ]
     },
     "execution_count": 6,
     "metadata": {},
     "output_type": "execute_result"
    }
   ],
   "source": [
    "X_test"
   ]
  },
  {
   "cell_type": "code",
   "execution_count": 7,
   "metadata": {},
   "outputs": [
    {
     "data": {
      "text/plain": [
       "ID\n",
       "160587    0\n",
       "328947    0\n",
       "583619    0\n",
       "155922    0\n",
       "468688    0\n",
       "         ..\n",
       "249311    0\n",
       "321783    1\n",
       "399839    0\n",
       "563123    0\n",
       "247886    0\n",
       "Name: TARGET, Length: 284152, dtype: int64"
      ]
     },
     "execution_count": 7,
     "metadata": {},
     "output_type": "execute_result"
    }
   ],
   "source": [
    "y_train"
   ]
  },
  {
   "cell_type": "code",
   "execution_count": 8,
   "metadata": {},
   "outputs": [
    {
     "data": {
      "text/plain": [
       "ID\n",
       "213012    0\n",
       "425165    0\n",
       "418831    1\n",
       "309967    0\n",
       "541027    0\n",
       "         ..\n",
       "582743    1\n",
       "261292    0\n",
       "180844    0\n",
       "283693    0\n",
       "238505    0\n",
       "Name: TARGET, Length: 71038, dtype: int64"
      ]
     },
     "execution_count": 8,
     "metadata": {},
     "output_type": "execute_result"
    }
   ],
   "source": [
    "y_test"
   ]
  },
  {
   "cell_type": "code",
   "execution_count": null,
   "metadata": {},
   "outputs": [],
   "source": [
    "#лог. регрессия"
   ]
  },
  {
   "cell_type": "code",
   "execution_count": 6,
   "metadata": {},
   "outputs": [],
   "source": [
    "from sklearn.linear_model import LogisticRegression\n",
    "from sklearn.model_selection import GridSearchCV\n",
    "from sklearn.metrics import roc_auc_score\n",
    "from numpy import arange\n",
    "clf = LogisticRegression(random_state=21, max_iter=7000)"
   ]
  },
  {
   "cell_type": "code",
   "execution_count": 10,
   "metadata": {},
   "outputs": [],
   "source": [
    "parametrs = { 'C': arange (0.1, 0.3, 0.1)}"
   ]
  },
  {
   "cell_type": "code",
   "execution_count": 11,
   "metadata": {},
   "outputs": [
    {
     "data": {
      "text/plain": [
       "GridSearchCV(cv=5, estimator=LogisticRegression(max_iter=7000, random_state=21),\n",
       "             param_grid={'C': array([0.1, 0.2])}, scoring='roc_auc')"
      ]
     },
     "execution_count": 11,
     "metadata": {},
     "output_type": "execute_result"
    }
   ],
   "source": [
    "grid = GridSearchCV(clf, parametrs, cv=5, scoring='roc_auc')\n",
    "grid.fit(X_train, y_train)"
   ]
  },
  {
   "cell_type": "code",
   "execution_count": 12,
   "metadata": {},
   "outputs": [
    {
     "data": {
      "text/plain": [
       "{'C': 0.2}"
      ]
     },
     "execution_count": 12,
     "metadata": {},
     "output_type": "execute_result"
    }
   ],
   "source": [
    "grid.best_params_"
   ]
  },
  {
   "cell_type": "code",
   "execution_count": 13,
   "metadata": {},
   "outputs": [
    {
     "data": {
      "text/plain": [
       "0.7457303011024092"
      ]
     },
     "execution_count": 13,
     "metadata": {},
     "output_type": "execute_result"
    }
   ],
   "source": [
    "grid.best_score_"
   ]
  },
  {
   "cell_type": "code",
   "execution_count": null,
   "metadata": {},
   "outputs": [],
   "source": [
    "#дерево решений"
   ]
  },
  {
   "cell_type": "code",
   "execution_count": 7,
   "metadata": {},
   "outputs": [],
   "source": [
    "from sklearn.tree import DecisionTreeClassifier"
   ]
  },
  {
   "cell_type": "code",
   "execution_count": 10,
   "metadata": {},
   "outputs": [],
   "source": [
    "tree_clf = DecisionTreeClassifier(random_state=21) #построим дерево\n",
    "parametrs1 = { 'max_depth': range (1, 15, 1), 'max_features': range (5, 20, 1)}\n",
    "tree_grid = GridSearchCV(tree_clf, parametrs1, cv=5, scoring='roc_auc')"
   ]
  },
  {
   "cell_type": "code",
   "execution_count": 18,
   "metadata": {},
   "outputs": [
    {
     "data": {
      "text/plain": [
       "GridSearchCV(cv=5, estimator=DecisionTreeClassifier(random_state=21),\n",
       "             param_grid={'max_depth': range(1, 15),\n",
       "                         'max_features': range(5, 20)},\n",
       "             scoring='roc_auc')"
      ]
     },
     "execution_count": 18,
     "metadata": {},
     "output_type": "execute_result"
    }
   ],
   "source": [
    "tree_grid.fit(X_train, y_train)"
   ]
  },
  {
   "cell_type": "code",
   "execution_count": 19,
   "metadata": {},
   "outputs": [
    {
     "data": {
      "text/plain": [
       "{'max_depth': 11, 'max_features': 18}"
      ]
     },
     "execution_count": 19,
     "metadata": {},
     "output_type": "execute_result"
    }
   ],
   "source": [
    "tree_grid.best_params_"
   ]
  },
  {
   "cell_type": "code",
   "execution_count": 20,
   "metadata": {},
   "outputs": [
    {
     "data": {
      "text/plain": [
       "0.7504196297404396"
      ]
     },
     "execution_count": 20,
     "metadata": {},
     "output_type": "execute_result"
    }
   ],
   "source": [
    "tree_grid.best_score_"
   ]
  },
  {
   "cell_type": "code",
   "execution_count": null,
   "metadata": {},
   "outputs": [],
   "source": [
    "#случайный лес"
   ]
  },
  {
   "cell_type": "code",
   "execution_count": 8,
   "metadata": {},
   "outputs": [],
   "source": [
    "from sklearn.ensemble import RandomForestClassifier"
   ]
  },
  {
   "cell_type": "code",
   "execution_count": 22,
   "metadata": {},
   "outputs": [
    {
     "data": {
      "text/plain": [
       "GridSearchCV(cv=5, estimator=RandomForestClassifier(random_state=21),\n",
       "             param_grid={'max_depth': range(10, 30, 7),\n",
       "                         'max_features': range(15, 45, 10)},\n",
       "             scoring='roc_auc')"
      ]
     },
     "execution_count": 22,
     "metadata": {},
     "output_type": "execute_result"
    }
   ],
   "source": [
    "forest_clf = RandomForestClassifier(random_state=21) #построим лес\n",
    "parametrs2 = { 'max_depth': range (10, 30, 7), 'max_features': range (15, 45, 10)}\n",
    "forest_grid = GridSearchCV(forest_clf, parametrs2, cv=5, scoring='roc_auc')\n",
    "forest_grid.fit(X_train, y_train)"
   ]
  },
  {
   "cell_type": "code",
   "execution_count": 23,
   "metadata": {},
   "outputs": [
    {
     "data": {
      "text/plain": [
       "{'max_depth': 17, 'max_features': 35}"
      ]
     },
     "execution_count": 23,
     "metadata": {},
     "output_type": "execute_result"
    }
   ],
   "source": [
    "forest_grid.best_params_"
   ]
  },
  {
   "cell_type": "code",
   "execution_count": 24,
   "metadata": {},
   "outputs": [
    {
     "data": {
      "text/plain": [
       "0.8284444741876481"
      ]
     },
     "execution_count": 24,
     "metadata": {},
     "output_type": "execute_result"
    }
   ],
   "source": [
    "forest_grid.best_score_"
   ]
  },
  {
   "cell_type": "code",
   "execution_count": null,
   "metadata": {},
   "outputs": [],
   "source": [
    "#градиентный бустинг"
   ]
  },
  {
   "cell_type": "code",
   "execution_count": 9,
   "metadata": {},
   "outputs": [],
   "source": [
    "from sklearn.ensemble import GradientBoostingRegressor"
   ]
  },
  {
   "cell_type": "code",
   "execution_count": 26,
   "metadata": {},
   "outputs": [
    {
     "data": {
      "text/plain": [
       "GridSearchCV(cv=5, estimator=GradientBoostingRegressor(random_state=21),\n",
       "             param_grid={'max_depth': range(10, 40, 10),\n",
       "                         'max_features': range(10, 60, 20)},\n",
       "             scoring='roc_auc')"
      ]
     },
     "execution_count": 26,
     "metadata": {},
     "output_type": "execute_result"
    }
   ],
   "source": [
    "gbr = GradientBoostingRegressor(random_state=21) #построим boosting\n",
    "parametrs3 = { 'max_depth': range (10, 40, 10), 'max_features': range (10, 60, 20)}\n",
    "gbr_grid = GridSearchCV(gbr, parametrs3, cv=5, scoring='roc_auc')\n",
    "gbr_grid.fit(X_train, y_train)"
   ]
  },
  {
   "cell_type": "code",
   "execution_count": 27,
   "metadata": {},
   "outputs": [
    {
     "data": {
      "text/plain": [
       "{'max_depth': 10, 'max_features': 50}"
      ]
     },
     "execution_count": 27,
     "metadata": {},
     "output_type": "execute_result"
    }
   ],
   "source": [
    "gbr_grid.best_params_"
   ]
  },
  {
   "cell_type": "code",
   "execution_count": 28,
   "metadata": {},
   "outputs": [
    {
     "data": {
      "text/plain": [
       "0.8398745044598626"
      ]
     },
     "execution_count": 28,
     "metadata": {},
     "output_type": "execute_result"
    }
   ],
   "source": [
    "gbr_grid.best_score_"
   ]
  },
  {
   "cell_type": "code",
   "execution_count": null,
   "metadata": {},
   "outputs": [],
   "source": [
    "#хорошая модель"
   ]
  },
  {
   "cell_type": "code",
   "execution_count": 10,
   "metadata": {},
   "outputs": [
    {
     "data": {
      "text/plain": [
       "RandomForestClassifier(max_depth=17, max_features=35, random_state=21)"
      ]
     },
     "execution_count": 10,
     "metadata": {},
     "output_type": "execute_result"
    }
   ],
   "source": [
    "good_mod = RandomForestClassifier(random_state=21, max_depth=17, max_features=35)\n",
    "good_mod.fit(X_train, y_train)"
   ]
  },
  {
   "cell_type": "code",
   "execution_count": 11,
   "metadata": {},
   "outputs": [
    {
     "data": {
      "text/plain": [
       "array([0, 0, 0, ..., 0, 0, 0], dtype=int64)"
      ]
     },
     "execution_count": 11,
     "metadata": {},
     "output_type": "execute_result"
    }
   ],
   "source": [
    "good_mod.predict_proba(X_test)\n",
    "y_pred_gm = good_mod.predict(X_test)\n",
    "y_pred_gm"
   ]
  },
  {
   "cell_type": "code",
   "execution_count": 12,
   "metadata": {},
   "outputs": [
    {
     "data": {
      "text/plain": [
       "0.5079465413784876"
      ]
     },
     "execution_count": 12,
     "metadata": {},
     "output_type": "execute_result"
    }
   ],
   "source": [
    "roc_auc_score(y_test, y_pred_gm)"
   ]
  },
  {
   "cell_type": "code",
   "execution_count": null,
   "metadata": {},
   "outputs": [],
   "source": [
    "#построить график"
   ]
  },
  {
   "cell_type": "code",
   "execution_count": 13,
   "metadata": {},
   "outputs": [
    {
     "data": {
      "image/png": "[encoded data removed]",
      "text/plain": [
       "<Figure size 864x360 with 1 Axes>"
      ]
     },
     "metadata": {},
     "output_type": "display_data"
    }
   ],
   "source": [
    "f_importances(abs(good_mod.feature_importances_), X_train.columns, top=10)"
   ]
  },
  {
   "cell_type": "code",
   "execution_count": null,
   "metadata": {},
   "outputs": [],
   "source": [
    "#сохраняем модель"
   ]
  },
  {
   "cell_type": "code",
   "execution_count": 14,
   "metadata": {},
   "outputs": [],
   "source": [
    "import pickle\n",
    "# Save to file in the current working directory\n",
    "pkl_filename = \"good_model.sav\"\n",
    "with open(pkl_filename, 'wb') as file:\n",
    "    pickle.dump(good_mod, file)"
   ]
  },
  {
   "cell_type": "code",
   "execution_count": 15,
   "metadata": {},
   "outputs": [],
   "source": [
    "# Load from file\n",
    "with open(pkl_filename, 'rb') as file:\n",
    "    good_mod1 = pickle.load(file)"
   ]
  },
  {
   "cell_type": "code",
   "execution_count": 16,
   "metadata": {},
   "outputs": [
    {
     "data": {
      "text/plain": [
       "array([0, 0, 0, ..., 0, 0, 0], dtype=int64)"
      ]
     },
     "execution_count": 16,
     "metadata": {},
     "output_type": "execute_result"
    }
   ],
   "source": [
    "good_mod1.predict_proba(X_test)\n",
    "y_pred_gm1 = good_mod1.predict(X_test)\n",
    "y_pred_gm1"
   ]
  },
  {
   "cell_type": "code",
   "execution_count": 17,
   "metadata": {},
   "outputs": [
    {
     "data": {
      "text/plain": [
       "0.5079465413784876"
      ]
     },
     "execution_count": 17,
     "metadata": {},
     "output_type": "execute_result"
    }
   ],
   "source": [
    "roc_auc_score(y_test, y_pred_gm1)"
   ]
  },
  {
   "cell_type": "code",
   "execution_count": null,
   "metadata": {},
   "outputs": [],
   "source": [
    "#лучшая модель"
   ]
  },
  {
   "cell_type": "code",
   "execution_count": 18,
   "metadata": {},
   "outputs": [
    {
     "data": {
      "text/plain": [
       "GradientBoostingRegressor(max_depth=10, max_features=50, random_state=21)"
      ]
     },
     "execution_count": 18,
     "metadata": {},
     "output_type": "execute_result"
    }
   ],
   "source": [
    "best_mod = GradientBoostingRegressor(random_state=21, max_depth=10, max_features=50)\n",
    "best_mod.fit(X_train, y_train)"
   ]
  },
  {
   "cell_type": "code",
   "execution_count": 19,
   "metadata": {},
   "outputs": [
    {
     "data": {
      "text/plain": [
       "array([ 0.22119964,  0.03857083,  0.24805075, ..., -0.00316727,\n",
       "        0.07223801, -0.01483977])"
      ]
     },
     "execution_count": 19,
     "metadata": {},
     "output_type": "execute_result"
    }
   ],
   "source": [
    "y_pred_bm = best_mod.predict(X_test)\n",
    "y_pred_bm"
   ]
  },
  {
   "cell_type": "code",
   "execution_count": 20,
   "metadata": {},
   "outputs": [
    {
     "data": {
      "text/plain": [
       "0.8461878875009244"
      ]
     },
     "execution_count": 20,
     "metadata": {},
     "output_type": "execute_result"
    }
   ],
   "source": [
    "roc_auc_score(y_test, y_pred_bm)"
   ]
  },
  {
   "cell_type": "code",
   "execution_count": null,
   "metadata": {},
   "outputs": [],
   "source": [
    "#построить график"
   ]
  },
  {
   "cell_type": "code",
   "execution_count": 21,
   "metadata": {},
   "outputs": [
    {
     "data": {
      "image/png": "[encoded data removed]",
      "text/plain": [
       "<Figure size 864x360 with 1 Axes>"
      ]
     },
     "metadata": {},
     "output_type": "display_data"
    }
   ],
   "source": [
    "f_importances(abs(best_mod.feature_importances_), X_train.columns, top=10)"
   ]
  },
  {
   "cell_type": "code",
   "execution_count": null,
   "metadata": {},
   "outputs": [],
   "source": [
    "#сохраняем модель"
   ]
  },
  {
   "cell_type": "code",
   "execution_count": 22,
   "metadata": {},
   "outputs": [],
   "source": [
    "import pickle\n",
    "# Save to file in the current working directory\n",
    "pkl_filename1 = \"best_model.sav\"\n",
    "with open(pkl_filename1, 'wb') as file:\n",
    "    pickle.dump(best_mod, file)"
   ]
  },
  {
   "cell_type": "code",
   "execution_count": 23,
   "metadata": {},
   "outputs": [],
   "source": [
    "# Load from file\n",
    "with open(pkl_filename1, 'rb') as file:\n",
    "    best_mod1 = pickle.load(file)"
   ]
  },
  {
   "cell_type": "code",
   "execution_count": 24,
   "metadata": {},
   "outputs": [
    {
     "data": {
      "text/plain": [
       "array([ 0.22119964,  0.03857083,  0.24805075, ..., -0.00316727,\n",
       "        0.07223801, -0.01483977])"
      ]
     },
     "execution_count": 24,
     "metadata": {},
     "output_type": "execute_result"
    }
   ],
   "source": [
    "y_pred_bm1 = best_mod1.predict(X_test)\n",
    "y_pred_bm1"
   ]
  },
  {
   "cell_type": "code",
   "execution_count": 25,
   "metadata": {},
   "outputs": [
    {
     "data": {
      "text/plain": [
       "0.8461878875009244"
      ]
     },
     "execution_count": 25,
     "metadata": {},
     "output_type": "execute_result"
    }
   ],
   "source": [
    "roc_auc_score(y_test, y_pred_bm1)"
   ]
  },
  {
   "cell_type": "code",
   "execution_count": 2,
   "metadata": {},
   "outputs": [],
   "source": [
    "#очистка файла\n",
    "open('best_model.sav', 'w').close()"
   ]
  }
 ],
 "metadata": {
  "kernelspec": {
   "display_name": "Python 3.9.12 ('base')",
   "language": "python",
   "name": "python3"
  },
  "language_info": {
   "codemirror_mode": {
    "name": "ipython",
    "version": 3
   },
   "file_extension": ".py",
   "mimetype": "text/x-python",
   "name": "python",
   "nbconvert_exporter": "python",
   "pygments_lexer": "ipython3",
   "version": "3.9.12"
  },
  "orig_nbformat": 4,
  "vscode": {
   "interpreter": {
    "hash": "52d9bec1bd0dd1d60d9f041927d73dc99a1ae836019e05c066f33f67e6a94d9c"
   }
  }
 },
 "nbformat": 4,
 "nbformat_minor": 2
}
